{
  "cells": [
    {
      "cell_type": "code",
      "execution_count": 35,
      "metadata": {
        "collapsed": true,
        "pycharm": {
          "is_executing": false
        }
      },
      "outputs": [],
      "source": "import os\nimport pandas as pd\nimport shutil\nimport time"
    },
    {
      "cell_type": "code",
      "execution_count": 36,
      "outputs": [
        {
          "name": "stdout",
          "text": [
            "(4862, 7)\n"
          ],
          "output_type": "stream"
        }
      ],
      "source": "f_path \u003d \u0027/Users/jiwenyu/PycharmProjects/flaskWebProj/osroom-dev/osroom/apps/utils/subtitle_spider/lyric/input/taylor_swift_lyrics.csv\u0027\ndf \u003dpd.read_csv(f_path)\nprint(df.shape)",
      "metadata": {
        "pycharm": {
          "metadata": false,
          "name": "#%%\n",
          "is_executing": false
        }
      }
    },
    {
      "cell_type": "code",
      "execution_count": 37,
      "outputs": [
        {
          "name": "stdout",
          "text": [
            "         artist         album track_title  track_n  \\\n0  Taylor Swift  Taylor Swift  Tim McGraw        1   \n1  Taylor Swift  Taylor Swift  Tim McGraw        1   \n2  Taylor Swift  Taylor Swift  Tim McGraw        1   \n3  Taylor Swift  Taylor Swift  Tim McGraw        1   \n4  Taylor Swift  Taylor Swift  Tim McGraw        1   \n\n                                         lyric  line  year  \n0          He said the way my blue eyes shined     1  2006  \n1  Put those Georgia stars to shame that night     2  2006  \n2                       I said, \"That\u0027s a lie\"     3  2006  \n3                  Just a boy in a Chevy truck     4  2006  \n4         That had a tendency of gettin\u0027 stuck     5  2006  \n"
          ],
          "output_type": "stream"
        }
      ],
      "source": "print(df.head(5))",
      "metadata": {
        "pycharm": {
          "metadata": false,
          "name": "#%%\n",
          "is_executing": false
        }
      }
    },
    {
      "cell_type": "code",
      "execution_count": 38,
      "outputs": [
        {
          "name": "stdout",
          "text": [
            "[\u0027artist\u0027, \u0027album\u0027, \u0027track_title\u0027, \u0027track_n\u0027, \u0027lyric\u0027, \u0027line\u0027, \u0027year\u0027]\n"
          ],
          "output_type": "stream"
        }
      ],
      "source": "print(df.columns.to_list())",
      "metadata": {
        "pycharm": {
          "metadata": false,
          "name": "#%%\n",
          "is_executing": false
        }
      }
    },
    {
      "cell_type": "code",
      "execution_count": 39,
      "outputs": [
        {
          "name": "stdout",
          "text": [
            "artist                                Taylor Swift\nalbum                                 Taylor Swift\ntrack_title                             Tim McGraw\ntrack_n                                          1\nlyric          He said the way my blue eyes shined\nline                                             1\nyear                                          2006\nName: 0, dtype: object\n0\n"
          ],
          "output_type": "stream"
        }
      ],
      "source": "for index, row in df.iterrows():\n    print(row)\n    print(index)\n    break",
      "metadata": {
        "pycharm": {
          "metadata": false,
          "name": "#%%\n",
          "is_executing": false
        }
      }
    },
    {
      "cell_type": "code",
      "execution_count": 40,
      "outputs": [
        {
          "name": "stdout",
          "text": [
            "Taylor Swift\n"
          ],
          "output_type": "stream"
        }
      ],
      "source": "print(row[\u0027artist\u0027])",
      "metadata": {
        "pycharm": {
          "metadata": false,
          "name": "#%%\n",
          "is_executing": false
        }
      }
    },
    {
      "cell_type": "code",
      "execution_count": 41,
      "outputs": [],
      "source": "output \u003d {}\n# output \u003d {key: {}}",
      "metadata": {
        "pycharm": {
          "metadata": false,
          "name": "#%%\n",
          "is_executing": false
        }
      }
    },
    {
      "cell_type": "code",
      "execution_count": 42,
      "outputs": [],
      "source": "for index, row in df.iterrows():\n    key \u003d row[\u0027artist\u0027]+row[\u0027album\u0027]+row[\u0027track_title\u0027]+str(row[\u0027track_n\u0027])\n    if not output.get(key):\n        tmp \u003d dict()\n        tmp[\u0027artist\u0027] \u003d row[\u0027artist\u0027]\n        tmp[\u0027album\u0027] \u003d row[\u0027album\u0027]\n        tmp[\u0027track_title\u0027] \u003d row[\u0027track_title\u0027] \n        tmp[\u0027track_n\u0027] \u003d row[\u0027track_n\u0027]\n        tmp[\u0027year\u0027] \u003d row[\u0027year\u0027]\n        tmp[\u0027content\u0027] \u003d [row[\u0027lyric\u0027]]\n        \n        # set value\n        output[key] \u003d tmp\n        \n    else:\n        tmp_dict \u003d output.get(key)\n        tmp_dict[\u0027content\u0027].append(row[\u0027lyric\u0027])\n        ",
      "metadata": {
        "pycharm": {
          "metadata": false,
          "name": "#%%\n",
          "is_executing": false
        }
      }
    },
    {
      "cell_type": "code",
      "execution_count": 43,
      "outputs": [
        {
          "name": "stdout",
          "text": [
            "94\n"
          ],
          "output_type": "stream"
        }
      ],
      "source": "print(len(output))",
      "metadata": {
        "pycharm": {
          "metadata": false,
          "name": "#%%\n",
          "is_executing": false
        }
      }
    },
    {
      "cell_type": "code",
      "execution_count": 44,
      "outputs": [
        {
          "data": {
            "text/plain": "{\u0027artist\u0027: \u0027Taylor Swift\u0027,\n \u0027album\u0027: \u0027reputation\u0027,\n \u0027track_title\u0027: \"New Year\u0027s Day\",\n \u0027track_n\u0027: 15,\n \u0027year\u0027: 2017,\n \u0027content\u0027: [\"There\u0027s glitter on the floor after the party\",\n  \u0027Girls carrying their shoes down in the lobby\u0027,\n  \u0027Candle wax and Polaroids on the hardwood floor\u0027,\n  \u0027You and me from the night before, but\u0027,\n  \"Don\u0027t read the last page\",\n  \"But I stay when you\u0027re lost, and I\u0027m scared\",\n  \"And you\u0027re turning away\",\n  \u0027I want your midnights\u0027,\n  \"But I\u0027ll be cleaning up bottles with you on New Year\u0027s Day\",\n  \u0027You squeeze my hand three times in the back of the taxi\u0027,\n  \"I can tell that it\u0027s gonna be a long road\",\n  \"I\u0027ll be there if you\u0027re the toast of the town, babe\",\n  \"Or if you strike out and you\u0027re crawling home\",\n  \"Don\u0027t read the last page\",\n  \"But I stay when it\u0027s hard, or it\u0027s wrong\",\n  \"Or we\u0027re making mistakes\",\n  \u0027I want your midnights\u0027,\n  \"But I\u0027ll be cleaning up bottles with you on New Year\u0027s Day\",\n  \u0027Hold on to the memories, they will hold on to you\u0027,\n  \u0027Hold on to the memories, they will hold on to you\u0027,\n  \u0027Hold on to the memories, they will hold on to you\u0027,\n  \u0027And I will hold on to you\u0027,\n  \"Please don\u0027t ever become a stranger\",\n  \u0027Whose laugh I could recognize anywhere\u0027,\n  \"Please don\u0027t ever become a stranger\",\n  \u0027Whose laugh I could recognize anywhere\u0027,\n  \"There\u0027s glitter on the floor after the party\",\n  \u0027Girls carrying their shoes down in the lobby\u0027,\n  \u0027Candle wax and Polaroids on the hardwood floor\u0027,\n  \u0027You and me forevermore\u0027,\n  \"Don\u0027t read the last page\",\n  \"But I stay when it\u0027s hard, or it\u0027s wrong\",\n  \"Or we\u0027re making mistakes\",\n  \u0027I want your midnights\u0027,\n  \"But I\u0027ll be cleaning up bottles with you on New Year\u0027s Day\",\n  \u0027Hold on to the memories, they will hold on to you\u0027,\n  \u0027Hold on to the memories, they will hold on to you\u0027,\n  \u0027Hold on to the memories, they will hold on to you\u0027,\n  \u0027And I will hold on to you\u0027,\n  \"Please don\u0027t ever become a stranger\",\n  \u0027(To the memories, they will hold on to you)\u0027,\n  \u0027Whose laugh I could recognize anywhere\u0027,\n  \u0027(Hold on to the memories, they will hold on to you)\u0027,\n  \"Please don\u0027t ever become a stranger\",\n  \u0027(Hold on to the memories, they will hold on to you)\u0027,\n  \u0027Whose laugh I could recognize anywhere\u0027,\n  \u0027(I will hold on to you)\u0027]}"
          },
          "metadata": {},
          "output_type": "execute_result",
          "execution_count": 44
        }
      ],
      "source": "output.get(key)",
      "metadata": {
        "pycharm": {
          "metadata": false,
          "name": "#%%\n",
          "is_executing": false
        }
      }
    },
    {
      "cell_type": "code",
      "execution_count": 45,
      "outputs": [],
      "source": "import pymongo",
      "metadata": {
        "pycharm": {
          "metadata": false,
          "name": "#%%\n",
          "is_executing": false
        }
      }
    },
    {
      "cell_type": "code",
      "execution_count": 46,
      "outputs": [
        {
          "name": "stdout",
          "text": [
            "[\u0027post\u0027, \u0027display_setting\u0027, \u0027theme_category\u0027, \u0027test_coll\u0027, \u0027tempfile\u0027, \u0027comment\u0027, \u0027verify_code\u0027, \u0027category\u0027, \u0027msg_code\u0027, \u0027media\u0027, \u0027student\u0027, \u0027access_record\u0027, \u0027subtitle\u0027]\n"
          ],
          "output_type": "stream"
        },
        {
          "name": "stderr",
          "text": [
            "/Users/jiwenyu/PycharmProjects/osroom/lib/python3.6/site-packages/ipykernel_launcher.py:6: DeprecationWarning: collection_names is deprecated. Use list_collection_names instead.\n  \n"
          ],
          "output_type": "stream"
        }
      ],
      "source": "mongo_username \u003d \u0027jiwen\u0027\nmongo_password \u003d \u0027123456\u0027\nmongo_client \u003d pymongo.MongoClient(\u0027127.0.0.1\u0027, 27017)\nmongo_db \u003d mongo_client[\u0027osr_web\u0027]\nmongo_db.authenticate(mongo_username, mongo_password)\nprint(mongo_db.collection_names())",
      "metadata": {
        "pycharm": {
          "metadata": false,
          "name": "#%%\n",
          "is_executing": false
        }
      }
    },
    {
      "cell_type": "code",
      "execution_count": 47,
      "outputs": [],
      "source": "subtitles \u003d mongo_db[\u0027post\u0027]",
      "metadata": {
        "pycharm": {
          "metadata": false,
          "name": "#%%\n",
          "is_executing": false
        }
      }
    },
    {
      "cell_type": "code",
      "execution_count": 48,
      "outputs": [
        {
          "name": "stdout",
          "text": [
            "{\u0027_id\u0027: ObjectId(\u00275cdd7bbaf4c86b02141cc115\u0027), \u0027title\u0027: \u0027这是我的第一篇\u0027, \u0027content\u0027: \u0027\u003cp\u003e您当前使用的是富文本编辑器\u003c/p\u003e\u0027, \u0027brief_content\u0027: \u0027您当前使用的是富文本编辑器\u0027, \u0027category\u0027: \u00275cdd7b99f4c86b02141cc114\u0027, \u0027tags\u0027: [\u0027测试\u0027, \u0027测试标签\u0027], \u0027issued\u0027: 1, \u0027issue_time\u0027: 1558019002.982871, \u0027update_time\u0027: 1558019002.9963148, \u0027audited\u0027: 0, \u0027audit_score\u0027: 0, \u0027audit_user_id\u0027: None, \u0027audit_way\u0027: \u0027artificial\u0027, \u0027audit_label\u0027: \u0027no_plugin\u0027, \u0027word_num\u0027: 13, \u0027is_delete\u0027: 0, \u0027imgs\u0027: [], \u0027cover_url\u0027: None, \u0027comment_num\u0027: 2, \u0027like\u0027: 0, \u0027like_user_id\u0027: [], \u0027user_id\u0027: \u00275cdd730af4c86b01f6360918\u0027, \u0027editor\u0027: \u0027rich_text\u0027, \u0027pv\u0027: 2}\n"
          ],
          "output_type": "stream"
        }
      ],
      "source": "sb \u003d subtitles.find_one()\nprint(sb)",
      "metadata": {
        "pycharm": {
          "metadata": false,
          "name": "#%%\n",
          "is_executing": false
        }
      }
    },
    {
      "cell_type": "code",
      "execution_count": 28,
      "outputs": [
        {
          "name": "stdout",
          "text": [
            "{\u0027artist\u0027: \u0027Taylor Swift\u0027, \u0027album\u0027: \u0027Taylor Swift\u0027, \u0027track_title\u0027: \u0027Tim McGraw\u0027, \u0027track_n\u0027: 1, \u0027year\u0027: 2006, \u0027content\u0027: [\u0027He said the way my blue eyes shined\u0027, \u0027Put those Georgia stars to shame that night\u0027, \u0027I said, \"That\\\u0027s a lie\"\u0027, \u0027Just a boy in a Chevy truck\u0027, \"That had a tendency of gettin\u0027 stuck\", \u0027On backroads at night\u0027, \u0027And I was right there beside him all summer long\u0027, \u0027And then the time we woke up to find that summer gone\u0027, \u0027But when you think Tim McGraw\u0027, \u0027I hope you think my favorite song\u0027, \u0027The one we danced to all night long\u0027, \u0027The moon like a spotlight on the lake\u0027, \u0027When you think happiness\u0027, \u0027I hope you think that little black dress\u0027, \u0027Think of my head on your chest\u0027, \u0027And my old faded blue jeans\u0027, \u0027When you think Tim McGraw\u0027, \u0027I hope you think of me\u0027, \u0027September saw a month of tears\u0027, \"And thankin\u0027 God that you weren\u0027t here\", \u0027To see me like that\u0027, \u0027But in a box beneath my bed\u0027, \u0027Is a letter that you never read\u0027, \u0027From three summers back\u0027, \"It\u0027s hard not to find it all a little bittersweet\", \"And lookin\u0027 back on all of that, it\u0027s nice to believe\", \u0027When you think Tim McGraw\u0027, \u0027I hope you think my favorite song\u0027, \u0027The one we danced to all night long\u0027, \u0027The moon like a spotlight on the lake\u0027, \u0027When you think happiness\u0027, \u0027I hope you think that little black dress\u0027, \u0027Think of my head on your chest\u0027, \u0027And my old faded blue jeans\u0027, \u0027When you think Tim McGraw\u0027, \u0027I hope you think of me\u0027, \"And I\u0027m back for the first time since then\", \"I\u0027m standin\u0027 on your street\", \"And there\u0027s a letter left on your doorstep\", \"And the first thing that you\u0027ll read is:\", \u0027\"When you think Tim McGraw\u0027, \u0027I hope you think my favorite song\u0027, \"Someday you\u0027ll turn your radio on\", \u0027I hope it takes you back to that place\"\u0027, \u0027When you think happiness\u0027, \u0027I hope you think that little black dress\u0027, \u0027Think of my head on your chest\u0027, \u0027And my old faded blue jeans\u0027, \u0027When you think Tim McGraw\u0027, \u0027I hope you think of me\u0027, \u0027Oh, think of me\u0027, \u0027Mmmm\u0027, \u0027He said the way my blue eyes shine\u0027, \u0027Put those Georgia stars to shame that night\u0027, \u0027I said, \"That\\\u0027s a lie\"\u0027]}\n"
          ],
          "output_type": "stream"
        }
      ],
      "source": "for key in output.keys():\n    print(output.get(key))\n    break",
      "metadata": {
        "pycharm": {
          "metadata": false,
          "name": "#%%\n",
          "is_executing": false
        }
      }
    },
    {
      "cell_type": "code",
      "execution_count": 49,
      "outputs": [],
      "source": "for key in output.keys():\n    lyric \u003d output.get(key)\n    sb \u003d dict()\n    sb[\u0027title\u0027] \u003d lyric.get(\u0027track_title\u0027)\n    tmp \u003d lyric.get(\u0027content\u0027)\n    clean_txt \u003d [str(t).replace(\u0027\\n\u0027,\u0027 \u0027).strip() for t in tmp]\n    sb[\u0027content\u0027] \u003d \u0027\\n\u0027.join(clean_txt)\n    sb[\u0027brief_content\u0027] \u003d \u0027 \u0027.join(clean_txt)[:144]\n    # music category id\n    sb[\u0027category\u0027] \u003d \u00275d2463fb2e517b2bbe24bbeb\u0027\n    sb[\u0027tags\u0027] \u003d[lyric.get(\u0027artist\u0027),lyric.get(\u0027album\u0027),lyric.get(\u0027track_title\u0027)]\n    sb[\"issued\"]\u003d 1\n    sb[\"issue_time\"]\u003d time.time()\n    sb[\"update_time\"]\u003d time.time()\n    sb[\"audited\"]\u003d0\n    sb[\"audit_score\"]\u003d0\n    sb[\"audit_user_id\"]\u003dNone\n    sb[\"audit_way\"]\u003d\"artificial\"\n    sb[\"audit_label\"]\u003d \"no_plugin\"\n    sb[\"word_num\"]\u003dlen(\u0027\u0027.join(clean_txt))\n    sb[\"is_delete\"]\u003d0\n    sb[\"imgs\"]\u003d []\n    sb[\"cover_url\"]\u003d\"\"\n    sb[\"attribute\"]\u003d {\u0027singer\u0027:lyric.get(\u0027artist\u0027),\n                      \u0027issue_year\u0027:lyric.get(\u0027year\u0027),\n                      \u0027album\u0027:lyric.get(\u0027album\u0027)}\n    sb[\"word_cloud\"]\u003d\"\"\n    sb[\"vocabulary\"]\u003d []\n    sb[\"comment_num\"]\u003d0\n    sb[\"like\"]\u003d0\n    sb[\"like_user_id\"]\u003d[]\n    sb[\"user_id\"]\u003d\"5cdd730af4c86b01f6360918\"\n    sb[\"editor\"]\u003d\"markdown\"\n    sb[\"type\"]\u003d\"subtitle\"\n    \n    subtitles.insert_one(sb)\n    time.sleep(0.1)",
      "metadata": {
        "pycharm": {
          "metadata": false,
          "name": "#%%\n",
          "is_executing": false
        }
      }
    },
    {
      "cell_type": "code",
      "execution_count": 31,
      "outputs": [
        {
          "name": "stderr",
          "text": [
            "/Users/jiwenyu/PycharmProjects/osroom/lib/python3.6/site-packages/ipykernel_launcher.py:1: DeprecationWarning: remove is deprecated. Use delete_one or delete_many instead.\n  \"\"\"Entry point for launching an IPython kernel.\n"
          ],
          "output_type": "stream"
        },
        {
          "data": {
            "text/plain": "{\u0027n\u0027: 0, \u0027ok\u0027: 1.0}"
          },
          "metadata": {},
          "output_type": "execute_result",
          "execution_count": 31
        }
      ],
      "source": "# subtitles.remove({\u0027_id\u0027:\u00275d245e9e9960f5dfefdd85bd\u0027})",
      "metadata": {
        "pycharm": {
          "metadata": false,
          "name": "#%%\n",
          "is_executing": false
        }
      }
    },
    {
      "cell_type": "code",
      "execution_count": 34,
      "outputs": [
        {
          "name": "stdout",
          "text": [
            "{\u0027_id\u0027: ObjectId(\u00275d245e9e9960f5dfefdd85bd\u0027), \u0027title\u0027: \u0027let it go\u0027, \u0027content\u0027: \u0027let it goooooogo, jiwen\u0027, \u0027brief_content\u0027: \u0027let it go let it go\u0027, \u0027category\u0027: \u00275d2463fb2e517b2bbe24bbeb\u0027, \u0027tags\u0027: [\u0027disny\u0027, \u0027cartoon\u0027], \u0027issued\u0027: 1, \u0027issue_time\u0027: 1562664522.8324292, \u0027update_time\u0027: 1562666363.9613922, \u0027audited\u0027: 0, \u0027audit_score\u0027: 0, \u0027audit_user_id\u0027: None, \u0027audit_way\u0027: \u0027artificial\u0027, \u0027audit_label\u0027: \u0027no_plugin\u0027, \u0027word_num\u0027: 19, \u0027is_delete\u0027: 0, \u0027imgs\u0027: [], \u0027cover_url\u0027: \u0027testurl\u0027, \u0027attribute\u0027: \u0027{\"singer\":\"abc\",\"issue_year\":\"2016\"}\u0027, \u0027word_cloud\u0027: \u0027\u0027, \u0027vocabulary\u0027: [], \u0027comment_num\u0027: 0, \u0027like\u0027: 0, \u0027like_user_id\u0027: [], \u0027user_id\u0027: \u00275cdd730af4c86b01f6360918\u0027, \u0027editor\u0027: \u0027markdown\u0027}\n{\u0027_id\u0027: ObjectId(\u00275d25faf86323c3efc4ee6be1\u0027), \u0027title\u0027: \u0027Tim McGraw\u0027, \u0027content\u0027: \u0027He said the way my blue eyes shined\\nPut those Georgia stars to shame that night\\nI said, \"That\\\u0027s a lie\"\\nJust a boy in a Chevy truck\\nThat had a tendency of gettin\\\u0027 stuck\\nOn backroads at night\\nAnd I was right there beside him all summer long\\nAnd then the time we woke up to find that summer gone\\nBut when you think Tim McGraw\\nI hope you think my favorite song\\nThe one we danced to all night long\\nThe moon like a spotlight on the lake\\nWhen you think happiness\\nI hope you think that little black dress\\nThink of my head on your chest\\nAnd my old faded blue jeans\\nWhen you think Tim McGraw\\nI hope you think of me\\nSeptember saw a month of tears\\nAnd thankin\\\u0027 God that you weren\\\u0027t here\\nTo see me like that\\nBut in a box beneath my bed\\nIs a letter that you never read\\nFrom three summers back\\nIt\\\u0027s hard not to find it all a little bittersweet\\nAnd lookin\\\u0027 back on all of that, it\\\u0027s nice to believe\\nWhen you think Tim McGraw\\nI hope you think my favorite song\\nThe one we danced to all night long\\nThe moon like a spotlight on the lake\\nWhen you think happiness\\nI hope you think that little black dress\\nThink of my head on your chest\\nAnd my old faded blue jeans\\nWhen you think Tim McGraw\\nI hope you think of me\\nAnd I\\\u0027m back for the first time since then\\nI\\\u0027m standin\\\u0027 on your street\\nAnd there\\\u0027s a letter left on your doorstep\\nAnd the first thing that you\\\u0027ll read is:\\n\"When you think Tim McGraw\\nI hope you think my favorite song\\nSomeday you\\\u0027ll turn your radio on\\nI hope it takes you back to that place\"\\nWhen you think happiness\\nI hope you think that little black dress\\nThink of my head on your chest\\nAnd my old faded blue jeans\\nWhen you think Tim McGraw\\nI hope you think of me\\nOh, think of me\\nMmmm\\nHe said the way my blue eyes shine\\nPut those Georgia stars to shame that night\\nI said, \"That\\\u0027s a lie\"\u0027, \u0027brief_content\u0027: \u0027He said the way my blue eyes shined Put those Georgia stars to shame that night I said, \"That\\\u0027s a lie\" Just a boy in a Chevy truck That had a te\u0027, \u0027category\u0027: \u00275d2463fb2e517b2bbe24bbeb\u0027, \u0027tags\u0027: [\u0027Taylor Swift\u0027, \u0027Taylor Swift\u0027, \u0027Tim McGraw\u0027], \u0027issued\u0027: 1, \u0027issue_time\u0027: 1562770168.862518, \u0027update_time\u0027: 1562770168.862519, \u0027audited\u0027: 0, \u0027audit_score\u0027: 0, \u0027audit_user_id\u0027: None, \u0027audit_way\u0027: \u0027artificial\u0027, \u0027audit_label\u0027: \u0027no_plugin\u0027, \u0027word_num\u0027: 1723, \u0027is_delete\u0027: 0, \u0027imgs\u0027: [], \u0027cover_url\u0027: \u0027\u0027, \u0027attribute\u0027: {\u0027singer\u0027: \u0027Taylor Swift\u0027, \u0027issue_year\u0027: 2006, \u0027album\u0027: \u0027Taylor Swift\u0027}, \u0027word_cloud\u0027: \u0027\u0027, \u0027vocabulary\u0027: [], \u0027comment_num\u0027: 0, \u0027like\u0027: 0, \u0027like_user_id\u0027: [], \u0027user_id\u0027: \u00275cdd730af4c86b01f6360918\u0027, \u0027editor\u0027: \u0027markdown\u0027}\n{\u0027_id\u0027: ObjectId(\u00275d25faf96323c3efc4ee6be2\u0027), \u0027title\u0027: \u0027Picture To Burn\u0027, \u0027content\u0027: \"State the obvious, I didn\u0027t get my perfect fantasy\\nI realize you love yourself more than you could ever love me\\nSo go and tell your friends that I\u0027m obsessive and crazy\\nThat\u0027s fine, I\u0027ll tell mine that you\u0027re gay\\nBy the way\\nI hate that stupid old pickup truck\\nYou never let me drive\\nYou\u0027re a redneck heartbreak\\nWho\u0027s really bad at lying\\nSo watch me strike a match\\nOn all my wasted time\\nAs far as I\u0027m concerned you\u0027re\\nJust another picture to burn\\nThere\u0027s no time for tears\\nI\u0027m just sitting here planning my revenge\\nThere\u0027s nothing stopping me\\nFrom going out with all of your best friends\\nAnd if you come around saying sorry to me\\nMy daddy\u0027s gonna show you how sorry you\u0027ll be\\nI hate that stupid old pickup truck\\nYou never let me drive\\nYou\u0027re a redneck heartbreak\\nWho\u0027s really bad at lying\\nSo watch me strike a match\\nOn all my wasted time\\nAs far as I\u0027m concerned you\u0027re\\nJust another picture to burn\\nAnd if you\u0027re missing me\\nYou\u0027d better keep it to yourself\\n\u0027Cause coming back around here\\nWould be bad for your health\\nCause I hate that stupid old pickup truck\\nYou never let me drive\\nYou\u0027re a redneck heartbreak\\nWho\u0027s really bad at lying\\nSo watch me strike a match\\nOn all my wasted time\\nIn case you haven\u0027t heard\\nI really really hate that\\nI hate that stupid old pickup truck\\nYou never let me drive\\nYou\u0027re a redneck heartbreak\\nWho\u0027s really bad at lying\\nSo watch me strike a match\\nOn all my wasted time\\nAs far as I\u0027m concerned you\u0027re\\nJust another picture to burn\\nBurn, burn, burn, baby, burn\\nYou\u0027re just another picture to burn\\nBaby, burn\", \u0027brief_content\u0027: \"State the obvious, I didn\u0027t get my perfect fantasy I realize you love yourself more than you could ever love me So go and tell your friends that\", \u0027category\u0027: \u00275d2463fb2e517b2bbe24bbeb\u0027, \u0027tags\u0027: [\u0027Taylor Swift\u0027, \u0027Taylor Swift\u0027, \u0027Picture To Burn\u0027], \u0027issued\u0027: 1, \u0027issue_time\u0027: 1562770169.023883, \u0027update_time\u0027: 1562770169.023884, \u0027audited\u0027: 0, \u0027audit_score\u0027: 0, \u0027audit_user_id\u0027: None, \u0027audit_way\u0027: \u0027artificial\u0027, \u0027audit_label\u0027: \u0027no_plugin\u0027, \u0027word_num\u0027: 1483, \u0027is_delete\u0027: 0, \u0027imgs\u0027: [], \u0027cover_url\u0027: \u0027\u0027, \u0027attribute\u0027: {\u0027singer\u0027: \u0027Taylor Swift\u0027, \u0027issue_year\u0027: 2006, \u0027album\u0027: \u0027Taylor Swift\u0027}, \u0027word_cloud\u0027: \u0027\u0027, \u0027vocabulary\u0027: [], \u0027comment_num\u0027: 0, \u0027like\u0027: 0, \u0027like_user_id\u0027: [], \u0027user_id\u0027: \u00275cdd730af4c86b01f6360918\u0027, \u0027editor\u0027: \u0027markdown\u0027}\n{\u0027_id\u0027: ObjectId(\u00275d25faf96323c3efc4ee6be3\u0027), \u0027title\u0027: \u0027Teardrops On My Guitar\u0027, \u0027content\u0027: \"Drew looks at me\\nI fake a smile so he won\u0027t see\\nThat I want and I\u0027m needing\\nEverything that we should be\\nI\u0027ll bet she\u0027s beautiful, that girl he talks about\\nAnd she\u0027s got everything that I have to live without\\nDrew talks to me\\nI laugh \u0027cause it\u0027s so damn funny\\nThat I can\u0027t even see\\nAnyone when he\u0027s with me\\nHe says he\u0027s so in love, he\u0027s finally got it right\\nI wonder if he knows he\u0027s all I think about at night\\nHe\u0027s the reason for the teardrops on my guitar\\nThe only thing that keeps me wishing on a wishing star\\nHe\u0027s the song in the car\\nI keep singing, don\u0027t know why I do...\\nDrew walks by me\\nCan\u0027t he tell that I can\u0027t breathe?\\nAnd there he goes, so perfectly\\nThe kind of flawless I wish I could be\\nShe\u0027d better hold him tight, give him all her love\\nLook in those beautiful eyes and know she\u0027s lucky \u0027cause\\nHe\u0027s the reason for the teardrops on my guitar\\nThe only thing that keeps me wishing on a wishing star\\nHe\u0027s the song in the car\\nI keep singing, don\u0027t know why I do...\\nSo I drive home alone, as I turn off the light\\nI\u0027ll put his picture down and maybe get some sleep tonight\\nHe\u0027s the reason for the teardrops on my guitar\\nThe only one who\u0027s got enough of me to break my heart\\nHe\u0027s the song in the car\\nI keep singing, don\u0027t know why I do...\\nHe\u0027s the time taken up, but there\u0027s never enough\\nAnd he\u0027s all that I need to fall into\\nDrew looks at me\\nI fake a smile so he won\u0027t see\", \u0027brief_content\u0027: \"Drew looks at me I fake a smile so he won\u0027t see That I want and I\u0027m needing Everything that we should be I\u0027ll bet she\u0027s beautiful, that girl he \", \u0027category\u0027: \u00275d2463fb2e517b2bbe24bbeb\u0027, \u0027tags\u0027: [\u0027Taylor Swift\u0027, \u0027Taylor Swift\u0027, \u0027Teardrops On My Guitar\u0027], \u0027issued\u0027: 1, \u0027issue_time\u0027: 1562770169.1311738, \u0027update_time\u0027: 1562770169.131176, \u0027audited\u0027: 0, \u0027audit_score\u0027: 0, \u0027audit_user_id\u0027: None, \u0027audit_way\u0027: \u0027artificial\u0027, \u0027audit_label\u0027: \u0027no_plugin\u0027, \u0027word_num\u0027: 1345, \u0027is_delete\u0027: 0, \u0027imgs\u0027: [], \u0027cover_url\u0027: \u0027\u0027, \u0027attribute\u0027: {\u0027singer\u0027: \u0027Taylor Swift\u0027, \u0027issue_year\u0027: 2006, \u0027album\u0027: \u0027Taylor Swift\u0027}, \u0027word_cloud\u0027: \u0027\u0027, \u0027vocabulary\u0027: [], \u0027comment_num\u0027: 0, \u0027like\u0027: 0, \u0027like_user_id\u0027: [], \u0027user_id\u0027: \u00275cdd730af4c86b01f6360918\u0027, \u0027editor\u0027: \u0027markdown\u0027}\n{\u0027_id\u0027: ObjectId(\u00275d25faf96323c3efc4ee6be4\u0027), \u0027title\u0027: \u0027A Place In This World\u0027, \u0027content\u0027: \"I don\u0027t know what I want, so don\u0027t ask me\\nCause I\u0027m still trying to figure it out\\nDon\u0027t know what\u0027s down this road, I\u0027m just walking\\nTrying to see through the rain coming down\\nEven though I\u0027m not the only one\\nWho feels the way I do\\nI\u0027m alone, on my own, and that\u0027s all I know\\nI\u0027ll be strong, I\u0027ll be wrong, oh but life goes on\\nOh, I\u0027m just a girl, trying to find a place in this world\\nGot the radio on, my old blue jeans\\nAnd I\u0027m wearing my heart on my sleeve\\nFeeling lucky today, got the sunshine\\nCould you tell me what more do I need\\nAnd tomorrow\u0027s just a mystery, oh yeah\\nBut that\u0027s OK\\nI\u0027m alone, on my own, and that\u0027s all I know\\nI\u0027ll be strong, I\u0027ll be wrong, oh but life goes on\\nOh, I\u0027m just a girl, trying to find a place in this world\\nMaybe I\u0027m just a girl on a mission\\nBut I\u0027m ready to fly\\nI\u0027m alone, on my own, and that\u0027s all I know\\nI\u0027ll be strong, I\u0027ll be wrong, oh but life goes on\\nOh I\u0027m alone, on my own, and that\u0027s all I know\\nOh I\u0027m just a girl, trying to find a place in this world\\nOh I\u0027m just a girl\\nOh I\u0027m just a girl, oh, oh\\nOh I\u0027m just a girl\", \u0027brief_content\u0027: \"I don\u0027t know what I want, so don\u0027t ask me Cause I\u0027m still trying to figure it out Don\u0027t know what\u0027s down this road, I\u0027m just walking Trying to s\", \u0027category\u0027: \u00275d2463fb2e517b2bbe24bbeb\u0027, \u0027tags\u0027: [\u0027Taylor Swift\u0027, \u0027Taylor Swift\u0027, \u0027A Place In This World\u0027], \u0027issued\u0027: 1, \u0027issue_time\u0027: 1562770169.2368991, \u0027update_time\u0027: 1562770169.236907, \u0027audited\u0027: 0, \u0027audit_score\u0027: 0, \u0027audit_user_id\u0027: None, \u0027audit_way\u0027: \u0027artificial\u0027, \u0027audit_label\u0027: \u0027no_plugin\u0027, \u0027word_num\u0027: 1034, \u0027is_delete\u0027: 0, \u0027imgs\u0027: [], \u0027cover_url\u0027: \u0027\u0027, \u0027attribute\u0027: {\u0027singer\u0027: \u0027Taylor Swift\u0027, \u0027issue_year\u0027: 2006, \u0027album\u0027: \u0027Taylor Swift\u0027}, \u0027word_cloud\u0027: \u0027\u0027, \u0027vocabulary\u0027: [], \u0027comment_num\u0027: 0, \u0027like\u0027: 0, \u0027like_user_id\u0027: [], \u0027user_id\u0027: \u00275cdd730af4c86b01f6360918\u0027, \u0027editor\u0027: \u0027markdown\u0027}\n{\u0027_id\u0027: ObjectId(\u00275d25faf96323c3efc4ee6be5\u0027), \u0027title\u0027: \u0027Cold as You\u0027, \u0027content\u0027: \"You have a way of coming easily to me\\nAnd when you take, you take the very best of me\\nSo I start a fight cause I need to feel something\\nAnd you do what you want cause I\u0027m not what you wanted\\nOh what a shame, what a rainy ending given to a perfect day\\nJust walk away, no use defending words that you will never say\\nAnd now that I\u0027m sitting here thinking it through\\nI\u0027ve never been anywhere cold as you\\nYou put up walls and paint them all a shade of gray\\nAnd I stood there loving you and wished them all away\\nAnd you come away with a great little story\\nOf a mess of a dreamer with the nerve to adore you\\nOh what a shame, what a rainy ending given to a perfect day\\nJust walk away, no use defending words that you will never say\\nAnd now that I\u0027m sitting here thinking it through\\nI\u0027ve never been anywhere cold as you\\nYou never did give a damn thing honey but I cried, cried for you\\nAnd I know you wouldn\u0027t have told nobody if I died, died for you\\n(Died for you)\\nOh what a shame, what a rainy ending given to a perfect day\\nEvery smile you fake is so condescending\\nCounting all the scars you made\\nAnd now that I\u0027m sitting here thinking it through\\nI\u0027ve never been anywhere cold as you\", \u0027brief_content\u0027: \u0027You have a way of coming easily to me And when you take, you take the very best of me So I start a fight cause I need to feel something And you \u0027, \u0027category\u0027: \u00275d2463fb2e517b2bbe24bbeb\u0027, \u0027tags\u0027: [\u0027Taylor Swift\u0027, \u0027Taylor Swift\u0027, \u0027Cold as You\u0027], \u0027issued\u0027: 1, \u0027issue_time\u0027: 1562770169.342792, \u0027update_time\u0027: 1562770169.342793, \u0027audited\u0027: 0, \u0027audit_score\u0027: 0, \u0027audit_user_id\u0027: None, \u0027audit_way\u0027: \u0027artificial\u0027, \u0027audit_label\u0027: \u0027no_plugin\u0027, \u0027word_num\u0027: 1153, \u0027is_delete\u0027: 0, \u0027imgs\u0027: [], \u0027cover_url\u0027: \u0027\u0027, \u0027attribute\u0027: {\u0027singer\u0027: \u0027Taylor Swift\u0027, \u0027issue_year\u0027: 2006, \u0027album\u0027: \u0027Taylor Swift\u0027}, \u0027word_cloud\u0027: \u0027\u0027, \u0027vocabulary\u0027: [], \u0027comment_num\u0027: 0, \u0027like\u0027: 0, \u0027like_user_id\u0027: [], \u0027user_id\u0027: \u00275cdd730af4c86b01f6360918\u0027, \u0027editor\u0027: \u0027markdown\u0027}\n"
          ],
          "output_type": "stream"
        }
      ],
      "source": "for index, s in enumerate(subtitles.find()):\n    if index\u003e5:\n        break\n    print(s)\n    ",
      "metadata": {
        "pycharm": {
          "metadata": false,
          "name": "#%%\n",
          "is_executing": false
        }
      }
    },
    {
      "cell_type": "code",
      "execution_count": null,
      "outputs": [],
      "source": "\n",
      "metadata": {
        "pycharm": {
          "metadata": false,
          "name": "#%%\n"
        }
      }
    }
  ],
  "metadata": {
    "language_info": {
      "codemirror_mode": {
        "name": "ipython",
        "version": 2
      },
      "file_extension": ".py",
      "mimetype": "text/x-python",
      "name": "python",
      "nbconvert_exporter": "python",
      "pygments_lexer": "ipython2",
      "version": "2.7.6"
    },
    "kernelspec": {
      "name": "python3",
      "language": "python",
      "display_name": "Python 3"
    }
  },
  "nbformat": 4,
  "nbformat_minor": 0
}